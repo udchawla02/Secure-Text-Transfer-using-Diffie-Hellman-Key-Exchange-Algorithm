{
  "nbformat": 4,
  "nbformat_minor": 0,
  "metadata": {
    "colab": {
      "name": "PROJECT_CODE_DF_V_P.ipynb",
      "provenance": [],
      "collapsed_sections": []
    },
    "kernelspec": {
      "name": "python3",
      "display_name": "Python 3"
    }
  },
  "cells": [
    {
      "cell_type": "markdown",
      "metadata": {
        "id": "35PqteUYL6OU"
      },
      "source": [
        "**COMMUINCATION SECURITY THROUGH LAYERS OF SECURITY**"
      ]
    },
    {
      "cell_type": "markdown",
      "metadata": {
        "id": "_vn2YJCkMTNN"
      },
      "source": [
        "**PROCESS 1**\r\n",
        "\r\n",
        "**Diffie–Hellman Key**"
      ]
    },
    {
      "cell_type": "code",
      "metadata": {
        "colab": {
          "base_uri": "https://localhost:8080/"
        },
        "id": "pPeV9hV1I4Qj",
        "outputId": "d39deb08-1ab8-442e-9ede-094e74903062"
      },
      "source": [
        "# use Python 3 print function\r\n",
        "# this code ensures that the print function works the same in Python 2.x and 3.x\r\n",
        "from __future__ import print_function\r\n",
        "\r\n",
        "# Variables Used\r\n",
        "P = int(input(' Please enter the value of P.'))\r\n",
        "print('  Thanks for entering the value of P as ' + str(P))\r\n",
        "g = int(input(' Please enter the value of g.'))\r\n",
        "print('  Thanks for entering the value of g as ' + str(g))\r\n",
        " \r\n",
        "a = int(input(' \\n Please enter the value of a.'))\r\n",
        "b = int(input(' Please enter the value of b.'))\r\n",
        "\r\n",
        "# A1 Sends B2 A = g^a mod P\r\n",
        "A = (g**a) % P\r\n",
        "print( \"\\n  A1 sends over to B2: \" , A )\r\n",
        " \r\n",
        "# B2 Sends A1 B = g^b mod P\r\n",
        "B = (g ** b) % P\r\n",
        "print( \"  B2 sends over to A1: \" , B )\r\n",
        "\r\n",
        "# A1 computes the Shared Secret: S_A1 = B^a mod P\r\n",
        "A1SharedSecret = (B ** a) % P\r\n",
        "print( \"    \\n  A1 Shared Secret: \", A1SharedSecret )\r\n",
        " \r\n",
        "# B2 computes the Shared Secret: S_B2 = A^b mod P\r\n",
        "B2SharedSecret = (A**b) % P\r\n",
        "print( \"  B2 Shared Secret: \", B2SharedSecret )"
      ],
      "execution_count": null,
      "outputs": [
        {
          "output_type": "stream",
          "text": [
            " Please enter the value of P.12\n",
            "  Thanks for entering the value of P as 12\n",
            " Please enter the value of g.10\n",
            "  Thanks for entering the value of g as 10\n",
            " \n",
            " Please enter the value of a.8\n",
            " Please enter the value of b.6\n",
            "\n",
            "  A1 sends over to B2:  4\n",
            "  B2 sends over to A1:  4\n",
            "    \n",
            "  A1 Shared Secret:  4\n",
            "  B2 Shared Secret:  4\n"
          ],
          "name": "stdout"
        }
      ]
    },
    {
      "cell_type": "code",
      "metadata": {
        "colab": {
          "base_uri": "https://localhost:8080/"
        },
        "id": "eUHTHg4dJNFY",
        "outputId": "f246abf7-42eb-4b70-fad4-43650760deef"
      },
      "source": [
        "# Python code to implement \r\n",
        "# Vigenere Cipher \r\n",
        "\r\n",
        "# This function generates the \r\n",
        "# key in a cyclic manner until \r\n",
        "# it's length isn't equal to \r\n",
        "# the length of original text \r\n",
        "def generateKey(string, key): \r\n",
        "\tkey = list(key) \r\n",
        "\tif len(string) == len(key): \r\n",
        "\t\treturn(key) \r\n",
        "\telse: \r\n",
        "\t\tfor i in range(len(string) -\r\n",
        "\t\t\t\t\tlen(key)): \r\n",
        "\t\t\tkey.append(key[i % len(key)]) \r\n",
        "\treturn(\"\" . join(key)) \r\n",
        "\t\r\n",
        "# This function returns the \r\n",
        "# encrypted text generated \r\n",
        "# with the help of the key \r\n",
        "def cipherText(string, key): \r\n",
        "\tcipher_text = [] \r\n",
        "\tfor i in range(len(string)): \r\n",
        "\t\tx = (ord(string[i]) +\r\n",
        "\t\t\tord(key[i])) % 26\r\n",
        "\t\tx += ord('A') \r\n",
        "\t\tcipher_text.append(chr(x)) \r\n",
        "\treturn(\"\" . join(cipher_text)) \r\n",
        "\t\r\n",
        "# This function decrypts the \r\n",
        "# encrypted text and returns \r\n",
        "# the original text \r\n",
        "def originalText(cipher_text, key): \r\n",
        "\torig_text = [] \r\n",
        "\tfor i in range(len(cipher_text)): \r\n",
        "\t\tx = (ord(cipher_text[i]) -\r\n",
        "\t\t\tord(key[i]) + 26) % 26\r\n",
        "\t\tx += ord('A') \r\n",
        "\t\torig_text.append(chr(x)) \r\n",
        "\treturn(\"\" . join(orig_text)) \r\n",
        "\t\r\n",
        "# Driver code \r\n",
        "if __name__ == \"__main__\": \r\n",
        "\tstring = \"AMERICAN VIRUS\"\r\n",
        "\tkeyword = \"DELHI\"\r\n",
        "\tkey = generateKey(string, keyword) \r\n",
        "\tcipher_text = cipherText(string,key) \r\n",
        "\tprint(\"Ciphertext :\", cipher_text) \r\n",
        "\tprint(\"Original/Decrypted Text :\", \r\n",
        "\t\toriginalText(cipher_text, key)) \r\n",
        "\r\n",
        "\r\n"
      ],
      "execution_count": null,
      "outputs": [
        {
          "output_type": "stream",
          "text": [
            "Ciphertext : DQPYQFEYADLVFZ\n",
            "Original/Decrypted Text : AMERICANTVIRUS\n"
          ],
          "name": "stdout"
        }
      ]
    },
    {
      "cell_type": "code",
      "metadata": {
        "colab": {
          "base_uri": "https://localhost:8080/"
        },
        "id": "c2Vy2AArJPGI",
        "outputId": "707c9017-d6bc-469c-9e86-fc0f20487da0"
      },
      "source": [
        "  from string import ascii_uppercase as alphabet\r\n",
        "\r\n",
        "\r\n",
        "def codes_table(char):\r\n",
        "    table = {\r\n",
        "        \"A\": 11, \"B\": 21, \"C\": 31, \"D\": 41, \"E\": 51,\r\n",
        "        \"F\": 12, \"G\": 22, \"H\": 32, \"I\": 42, \"K\": 52,\r\n",
        "        \"L\": 13, \"M\": 23, \"N\": 33, \"O\": 43, \"P\": 53,\r\n",
        "        \"Q\": 14, \"R\": 24, \"S\": 34, \"T\": 44, \"U\": 54,\r\n",
        "        \"V\": 15, \"W\": 25, \"X\": 35, \"Y\": 45, \"Z\": 55, \"J\": 0,\r\n",
        "\r\n",
        "        11: \"A\", 21: \"B\", 31: \"C\", 41: \"D\", 51: \"E\",\r\n",
        "        12: \"F\", 22: \"G\", 32: \"H\", 42: \"I\", 52: \"K\",\r\n",
        "        13: \"L\", 23: \"M\", 33: \"N\", 43: \"O\", 53: \"P\",\r\n",
        "        14: \"Q\", 24: \"R\", 34: \"S\", 44: \"T\", 54: \"U\",\r\n",
        "        15: \"V\", 25: \"W\", 35: \"X\", 45: \"Y\", 55: \"Z\", 0: \"J\"\r\n",
        "    }\r\n",
        "\r\n",
        "    return table[char]\r\n",
        "\r\n",
        "\r\n",
        "def encoding(text):\r\n",
        "    text, finished_text = text.upper(), \"\"\r\n",
        "    for symbol in text:\r\n",
        "        if symbol in alphabet:\r\n",
        "            finished_text += str(codes_table(symbol)) + \" \"\r\n",
        "\r\n",
        "    return finished_text\r\n",
        "\r\n",
        "\r\n",
        "def decoding(text):\r\n",
        "    text, finished_text = text.upper(), \"\"\r\n",
        "    for symbol in list(map(int, text.split())):\r\n",
        "        finished_text += codes_table(symbol)\r\n",
        "\r\n",
        "    return finished_text\r\n",
        "\r\n",
        "\r\n",
        "def assembly(mode):\r\n",
        "    text = str(input(\"[+] Enter your text - \"))\r\n",
        "\r\n",
        "    if mode == 0:\r\n",
        "        finished_text = encoding(text)\r\n",
        "    else:\r\n",
        "        finished_text = decoding(text)\r\n",
        "\r\n",
        "    print(\"\\n »» The result of encoding . ««\")\r\n",
        "    print(finished_text)\r\n",
        "\r\n",
        "\r\n",
        "def main():\r\n",
        "    print(\"[x]Hybrid of Vigenere & Polybius Square cryptography algorithm. [x]\")\r\n",
        "    print(\" • 0. Encoding mode.\\n • 1. Decoding mode.\")\r\n",
        "\r\n",
        "    mode = int(input(\"[?] Select program mode - \"))\r\n",
        "    assembly(mode)\r\n",
        "\r\n",
        "\r\n",
        "if __name__ == '__main__':\r\n",
        "    main()"
      ],
      "execution_count": 3,
      "outputs": [
        {
          "output_type": "stream",
          "text": [
            "[x]Hybrid of Vigenere & Polybius Square cryptography algorithm. [x]\n",
            " • 0. Encoding mode.\n",
            " • 1. Decoding mode.\n",
            "[?] Select program mode - 0\n",
            "[+] Enter your text - DQPYQFEYADLVFZ\n",
            "\n",
            " »» The result of encoding . ««\n",
            "41 14 53 45 14 12 51 45 11 41 13 15 12 55 \n"
          ],
          "name": "stdout"
        }
      ]
    },
    {
      "cell_type": "markdown",
      "metadata": {
        "id": "JvML4znO6eqb"
      },
      "source": [
        "**DECRYPTION**"
      ]
    },
    {
      "cell_type": "code",
      "metadata": {
        "colab": {
          "base_uri": "https://localhost:8080/"
        },
        "id": "G3hM2UnfJYsv",
        "outputId": "a66cee79-5602-48df-9207-702a048877e7"
      },
      "source": [
        "  from string import ascii_uppercase as alphabet\r\n",
        "\r\n",
        "\r\n",
        "def codes_table(char):\r\n",
        "    table = {\r\n",
        "        \"A\": 11, \"B\": 21, \"C\": 31, \"D\": 41, \"E\": 51,\r\n",
        "        \"F\": 12, \"G\": 22, \"H\": 32, \"I\": 42, \"K\": 52,\r\n",
        "        \"L\": 13, \"M\": 23, \"N\": 33, \"O\": 43, \"P\": 53,\r\n",
        "        \"Q\": 14, \"R\": 24, \"S\": 34, \"T\": 44, \"U\": 54,\r\n",
        "        \"V\": 15, \"W\": 25, \"X\": 35, \"Y\": 45, \"Z\": 55, \"J\": 0,\r\n",
        "\r\n",
        "        11: \"A\", 21: \"B\", 31: \"C\", 41: \"D\", 51: \"E\",\r\n",
        "        12: \"F\", 22: \"G\", 32: \"H\", 42: \"I\", 52: \"K\",\r\n",
        "        13: \"L\", 23: \"M\", 33: \"N\", 43: \"O\", 53: \"P\",\r\n",
        "        14: \"Q\", 24: \"R\", 34: \"S\", 44: \"T\", 54: \"U\",\r\n",
        "        15: \"V\", 25: \"W\", 35: \"X\", 45: \"Y\", 55: \"Z\", 0: \"J\"\r\n",
        "    }\r\n",
        "\r\n",
        "    return table[char]\r\n",
        "\r\n",
        "\r\n",
        "def encoding(text):\r\n",
        "    text, finished_text = text.upper(), \"\"\r\n",
        "    for symbol in text:\r\n",
        "        if symbol in alphabet:\r\n",
        "            finished_text += str(codes_table(symbol)) + \" \"\r\n",
        "\r\n",
        "    return finished_text\r\n",
        "\r\n",
        "\r\n",
        "def decoding(text):\r\n",
        "    text, finished_text = text.upper(), \"\"\r\n",
        "    for symbol in list(map(int, text.split())):\r\n",
        "        finished_text += codes_table(symbol)\r\n",
        "\r\n",
        "    return finished_text\r\n",
        "\r\n",
        "\r\n",
        "def assembly(mode):\r\n",
        "    text = str(input(\"[+] Enter your text - \"))\r\n",
        "\r\n",
        "    if mode == 0:\r\n",
        "        finished_text = encoding(text)\r\n",
        "    else:\r\n",
        "        finished_text = decoding(text)\r\n",
        "\r\n",
        "    print(\"\\n »» The result of encoding . ««\")\r\n",
        "    print(finished_text)\r\n",
        "\r\n",
        "\r\n",
        "def main():\r\n",
        "    print(\"[x]Hybrid of Vigenere & Polybius Square cryptography algorithm. [x]\")\r\n",
        "    print(\" • 0. Encoding mode.\\n • 1. Decoding mode.\")\r\n",
        "\r\n",
        "    mode = int(input(\"[?] Select program mode - \"))\r\n",
        "    assembly(mode)\r\n",
        "\r\n",
        "\r\n",
        "if __name__ == '__main__':\r\n",
        "    main()"
      ],
      "execution_count": null,
      "outputs": [
        {
          "output_type": "stream",
          "text": [
            "[x]Hybrid of Vigenere & Polybius Square cryptography algorithm. [x]\n",
            " • 0. Encoding mode.\n",
            " • 1. Decoding mode.\n",
            "[?] Select program mode - 1\n",
            "[+] Enter your text - 41 14 53 45 14 12 51 45 11 41 13 15 12 55\n",
            "\n",
            " »» The result of encoding . ««\n",
            "DQPYQFEYADLVFZ\n"
          ],
          "name": "stdout"
        }
      ]
    },
    {
      "cell_type": "code",
      "metadata": {
        "id": "GAXE9PJDJr9G"
      },
      "source": [
        ""
      ],
      "execution_count": null,
      "outputs": []
    }
  ]
}